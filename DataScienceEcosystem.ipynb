{
 "cells": [
  {
   "cell_type": "markdown",
   "id": "b82b8795-c24c-4f05-a58e-9ca5ce763d3e",
   "metadata": {},
   "source": [
    "# Data Science Tools and Ecosystem"
   ]
  },
  {
   "cell_type": "markdown",
   "id": "d23372de-7d7d-45ec-82a0-994b26392d3f",
   "metadata": {
    "tags": []
   },
   "source": [
    "In this notebook, Data Science Tools and Ecosystem are summarized."
   ]
  },
  {
   "cell_type": "code",
   "execution_count": null,
   "id": "5ba9f5ea-e748-455b-9389-a6fcb1c8abf7",
   "metadata": {
    "tags": []
   },
   "outputs": [],
   "source": [
    "__Objectives:__\n",
    "- List popular languages for Data Science\n",
    "- Packages, APIs, Datasets and Models\n",
    "- Jupyter Notebooks and Jupyter Lab\n",
    "- RStudio & GitHub"
   ]
  },
  {
   "cell_type": "markdown",
   "id": "97ad22fb-02d4-4b9b-a18a-c93c8ebe40da",
   "metadata": {},
   "source": [
    "## Some of the popular languages that Data Scientists use are:\n",
    "1. Python\n",
    "2. Java\n",
    "3. C++\n",
    "4. C"
   ]
  },
  {
   "cell_type": "markdown",
   "id": "2d7ec31b-900d-4f5a-81f2-c02bf8254302",
   "metadata": {},
   "source": [
    "## Some of the commonly used libraries used by Data Scientists include:\n",
    "1. Numpy\n",
    "2. Pandas\n",
    "3. Keras\n",
    "4. Tensorflow"
   ]
  },
  {
   "cell_type": "markdown",
   "id": "044effe7-dd12-4d1c-8950-9ea4fcfbf810",
   "metadata": {
    "tags": []
   },
   "source": [
    "| Data Science Tools |\n",
    "| ------ |\n",
    "| Jupyter |\n",
    "| Pycharm |\n",
    "| RStudio |"
   ]
  },
  {
   "cell_type": "code",
   "execution_count": 6,
   "id": "b56c8690-f046-4bcf-82bc-3ad544451b9f",
   "metadata": {
    "tags": []
   },
   "outputs": [],
   "source": [
    "#Below are a few examples of evaluating arithmetic expressions in Python"
   ]
  },
  {
   "cell_type": "code",
   "execution_count": 2,
   "id": "c96fba12-82dd-4665-ac42-1628f8d5a1aa",
   "metadata": {
    "tags": []
   },
   "outputs": [
    {
     "data": {
      "text/plain": [
       "17"
      ]
     },
     "execution_count": 2,
     "metadata": {},
     "output_type": "execute_result"
    }
   ],
   "source": [
    "#This a simple arithmetic expression to mutiply then add integers\n",
    "(3*4)+5"
   ]
  },
  {
   "cell_type": "code",
   "execution_count": 3,
   "id": "7c0e133d-66a5-4940-86ac-cbd9a4b152bb",
   "metadata": {
    "tags": []
   },
   "outputs": [
    {
     "name": "stdout",
     "output_type": "stream",
     "text": [
      "hours: 3.3333333333333335\n"
     ]
    }
   ],
   "source": [
    "#This will convert 200 minutes to hours by diving by 60\n",
    "print('hours:',200/60)"
   ]
  },
  {
   "cell_type": "markdown",
   "id": "7212e766-e2c0-4426-bbd5-06221ac7e11c",
   "metadata": {
    "tags": []
   },
   "source": [
    "## Author\n",
    "Aluwala Raja Raja Narendra"
   ]
  }
 ],
 "metadata": {
  "kernelspec": {
   "display_name": "Python",
   "language": "python",
   "name": "conda-env-python-py"
  },
  "language_info": {
   "codemirror_mode": {
    "name": "ipython",
    "version": 3
   },
   "file_extension": ".py",
   "mimetype": "text/x-python",
   "name": "python",
   "nbconvert_exporter": "python",
   "pygments_lexer": "ipython3",
   "version": "3.7.12"
  }
 },
 "nbformat": 4,
 "nbformat_minor": 5
}
