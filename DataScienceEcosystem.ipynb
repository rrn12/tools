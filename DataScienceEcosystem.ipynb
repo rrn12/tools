{
 "cells": [
  {
   "cell_type": "markdown",
   "id": "97ad22fb-02d4-4b9b-a18a-c93c8ebe40da",
   "metadata": {},
   "source": [
    "Exercise 2: Create markdown cell with title of the notebook"
   ]
  },
  {
   "cell_type": "markdown",
   "id": "2d7ec31b-900d-4f5a-81f2-c02bf8254302",
   "metadata": {},
   "source": [
    "# Data Science Tools and Ecosystem"
   ]
  },
  {
   "cell_type": "markdown",
   "id": "044effe7-dd12-4d1c-8950-9ea4fcfbf810",
   "metadata": {
    "tags": []
   },
   "source": [
    "# Data Science Tools and Ecosystem"
   ]
  },
  {
   "cell_type": "markdown",
   "id": "e1a7ea2b-1884-46b9-a449-212e02e2b9c3",
   "metadata": {
    "tags": []
   },
   "source": [
    "Exercise 3 - Create a markdown cell for an introduction"
   ]
  },
  {
   "cell_type": "markdown",
   "id": "9720e12a-91f9-4002-99b7-8aabcae8fb2b",
   "metadata": {
    "tags": []
   },
   "source": [
    "In this notebook, Data Science Tools and Ecosystem are summarized."
   ]
  },
  {
   "cell_type": "markdown",
   "id": "1967a3a5-7d23-4602-9d01-082ccde9ae07",
   "metadata": {
    "tags": []
   },
   "source": [
    "Exercise 10 - Insert a markdown cell to list Objectives"
   ]
  },
  {
   "cell_type": "markdown",
   "id": "7212e766-e2c0-4426-bbd5-06221ac7e11c",
   "metadata": {
    "tags": []
   },
   "source": [
    "__Objectives:__\n",
    "- List popular languages for Data Science\n",
    "- List popular libraries for Data Science\n",
    "- List popular development environment open source tools for Data Science\n",
    "- Evaluating arithmetic expressions in Python"
   ]
  },
  {
   "cell_type": "markdown",
   "id": "2c7acba2-e300-4aad-8479-2f7f31842e19",
   "metadata": {
    "tags": []
   },
   "source": [
    "__Objectives:__\n",
    "- List popular languages for Data Science\n",
    "- List popular libraries for Data Science\n",
    "- List popular development environment open source tools for Data Science\n",
    "- Evaluating arithmetic expressions in Python"
   ]
  },
  {
   "cell_type": "markdown",
   "id": "561347ce-f8ec-478c-bdef-39e534aea988",
   "metadata": {
    "tags": []
   },
   "source": [
    "Exercise 4 - Create a markdown cell to list data science languages"
   ]
  },
  {
   "cell_type": "markdown",
   "id": "1744fb73-4511-462c-a654-7bd976ad8075",
   "metadata": {
    "tags": []
   },
   "source": [
    "## Some of the popular languages that Data Scientists use are:\n",
    "1. Python\n",
    "2. Java\n",
    "3. C++\n",
    "4. C"
   ]
  },
  {
   "cell_type": "markdown",
   "id": "86a0daaf-6e4a-4612-90a5-aad66bbb8a29",
   "metadata": {},
   "source": [
    "## Some of the popular languages that Data Scientists use are:\n",
    "1. Python\n",
    "2. Java\n",
    "3. C++\n",
    "4. C"
   ]
  },
  {
   "cell_type": "markdown",
   "id": "a0f45c88-70fb-4d68-97aa-b2108b6045be",
   "metadata": {
    "tags": []
   },
   "source": [
    "Exercise 5 - Create a markdown cell to list data science libraries"
   ]
  },
  {
   "cell_type": "markdown",
   "id": "636ff09d-4a3e-4c2f-ad7b-9ecf7ee5ea15",
   "metadata": {},
   "source": [
    "## Some of the commonly used libraries used by Data Scientists include:\n",
    "1. Numpy\n",
    "2. Pandas\n",
    "3. Keras\n",
    "4. Tensorflow"
   ]
  },
  {
   "cell_type": "markdown",
   "id": "34c602dc-3134-4ead-a040-9c14f858b078",
   "metadata": {},
   "source": [
    "## Some of the commonly used libraries used by Data Scientists include:\n",
    "1. Numpy\n",
    "2. Pandas\n",
    "3. Keras\n",
    "4. Tensorflow"
   ]
  },
  {
   "cell_type": "markdown",
   "id": "ac63cbec-cedc-464e-8a53-b4735bbae94d",
   "metadata": {
    "tags": []
   },
   "source": [
    "Exercise 6 - Create a markdown cell with a table of Data Science tools"
   ]
  },
  {
   "cell_type": "code",
   "execution_count": null,
   "id": "63f9d039-781e-4077-96c8-99363a116939",
   "metadata": {},
   "outputs": [],
   "source": [
    "| Data Science Tools |\n",
    "| ------ |\n",
    "| Jupyter |\n",
    "| Pycharm |\n",
    "| RStudio |"
   ]
  },
  {
   "cell_type": "markdown",
   "id": "9c12dc5f-ddf4-4366-991d-993d72ddcb8e",
   "metadata": {
    "tags": []
   },
   "source": [
    "| Data Science Tools |\n",
    "| ------ |\n",
    "| Jupyter |\n",
    "| Pycharm |\n",
    "| RStudio |"
   ]
  },
  {
   "cell_type": "markdown",
   "id": "0cf823c1-6765-4093-a105-9192d3369bdc",
   "metadata": {},
   "source": [
    "Exercise 7 - Create a markdown cell introducing arithmetic expression examples"
   ]
  },
  {
   "cell_type": "code",
   "execution_count": 27,
   "id": "20a376d0-0c26-4de3-a3fd-1ccdfd717876",
   "metadata": {
    "tags": []
   },
   "outputs": [],
   "source": [
    "#Below are a few examples of evaluating arithmetic expressions in Python"
   ]
  },
  {
   "cell_type": "markdown",
   "id": "a730b6b7-08c0-42fc-af2b-71c31efdf982",
   "metadata": {},
   "source": [
    "Exercise 8 - Create a code cell to multiply and add numbers"
   ]
  },
  {
   "cell_type": "code",
   "execution_count": 26,
   "id": "f4e1e9b0-fc46-491d-8b84-3d2f7c773e17",
   "metadata": {
    "tags": []
   },
   "outputs": [
    {
     "data": {
      "text/plain": [
       "17"
      ]
     },
     "execution_count": 26,
     "metadata": {},
     "output_type": "execute_result"
    }
   ],
   "source": [
    "#This a simple arithmetic expression to mutiply then add integers\n",
    "(3*4)+5"
   ]
  },
  {
   "cell_type": "markdown",
   "id": "d02d443a-552c-401a-83ac-5509a354723c",
   "metadata": {
    "tags": []
   },
   "source": [
    "Exercise 9 - Create a code cell to convert minutes to hours"
   ]
  },
  {
   "cell_type": "code",
   "execution_count": 25,
   "id": "f333c4d4-833e-46b3-bc02-6956d5e302b5",
   "metadata": {
    "tags": []
   },
   "outputs": [
    {
     "name": "stdout",
     "output_type": "stream",
     "text": [
      "hours: 3.3333333333333335\n"
     ]
    }
   ],
   "source": [
    "#This will convert 200 minutes to hours by diving by 60\n",
    "print('hours:',200/60)"
   ]
  },
  {
   "cell_type": "markdown",
   "id": "57b0ed9a-c6a0-4ce2-9a63-add174b6b3d0",
   "metadata": {},
   "source": [
    "Exercise 11 - Create a markdown cell to indicate the Author's name"
   ]
  },
  {
   "cell_type": "code",
   "execution_count": null,
   "id": "bf151074-ddde-4dfe-9fbf-64d9eaa489f7",
   "metadata": {},
   "outputs": [],
   "source": [
    "## Author\n",
    "Aluwala Raja Raja Narendra"
   ]
  },
  {
   "cell_type": "markdown",
   "id": "18737fbb-c948-496d-b27e-538f20656bb3",
   "metadata": {},
   "source": [
    "## Author\n",
    "Aluwala Raja Raja Narendra"
   ]
  }
 ],
 "metadata": {
  "kernelspec": {
   "display_name": "Python",
   "language": "python",
   "name": "conda-env-python-py"
  },
  "language_info": {
   "codemirror_mode": {
    "name": "ipython",
    "version": 3
   },
   "file_extension": ".py",
   "mimetype": "text/x-python",
   "name": "python",
   "nbconvert_exporter": "python",
   "pygments_lexer": "ipython3",
   "version": "3.7.12"
  }
 },
 "nbformat": 4,
 "nbformat_minor": 5
}
